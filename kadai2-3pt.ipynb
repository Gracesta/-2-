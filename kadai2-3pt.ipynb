{
 "cells": [
  {
   "cell_type": "markdown",
   "metadata": {},
   "source": [
    "# 【第２回目　課題３】PyTorchを使った深層学習 (3): MNIST編\n",
    "\n",
    "Kerasでの分類問題の最初の練習として，手書き文字データセットであるMNISTの分類を行ってみます．\n",
    "Yan LeCunが，最初にCNNの提案を行った論文中の実験で利用した歴史的なデータセットです．\n",
    "\n",
    "0から9までの10文字です．28x28の大きさのグレースケールの文字画像が6万枚含まれます．"
   ]
  },
  {
   "cell_type": "code",
   "execution_count": 1,
   "metadata": {},
   "outputs": [],
   "source": [
    "%matplotlib inline\n",
    "import matplotlib.pyplot as plt\n",
    "from IPython import display\n",
    "import time\n",
    "import os\n",
    "\n",
    "# proxyの設定．\n",
    "# torchvision.datasetsを利用する場合は，datasetを直接ダウンロードするので，学内マシンからは通常必要．\n",
    "os.environ[\"http_proxy\"] = \"http://proxy.uec.ac.jp:8080/\"\n",
    "os.environ[\"https_proxy\"] = \"http://proxy.uec.ac.jp:8080/\"\n",
    "os.environ[\"CUDA_VISIBLE_DEVICES\"] = \"0,1\"      # \"0\":GPU0, \"1\":GPU1, \"0,1\":GPUを2つとも使用\n",
    "\n",
    "import numpy as np\n",
    "import torch\n",
    "import torchvision\n",
    "import torch.nn as nn\n",
    "import torch.optim as optim\n",
    "import torch.nn.functional as F"
   ]
  },
  {
   "cell_type": "markdown",
   "metadata": {},
   "source": [
    "### <a href=\"https://pytorch.org/docs/stable/torchvision/datasets.html\">データセットの自動読み込み</a>\n",
    "\n",
    "MNIST, Cifar-10/100, Fashion-MNISTなど小規模なものからImageNetやKinetics-400など大規模なものまで，標準的な学習データセットを簡単に利用できる<a href=\"https://pytorch.org/docs/stable/torchvision/datasets.html\">TorchVision Dataset</a>が用意されています．なお，TorchVisionは，Pytorchの画像認識向けの補助ライブラリで，標準的なデータセット，学習済モデル，データ拡張のためのメソッドなどが含まれています．\n",
    "```python\n",
    "trainset = torchvision.datasets.MNIST(root='./dataset', train=True, download=True, transform=transform)\n",
    "testset = torchvision.datasets.MNIST(root='./dataset', train=False, download=True, transform=transform)\n",
    "```\n",
    "download=True とすると，初回実行時には，自動的にダウンロードが行われます．（ですので，Proxyが必要な環境では，事前に環境変数を設定する必要があります．)\n",
    "\n",
    "<a href=\"https://pytorch.org/docs/stable/torchvision/transforms.html\">TorchVision Transforms</a>を利用することで，読み込み時にデータの変形をすることができます．以下のコードでは，<a href=\"https://pytorch.org/docs/stable/torchvision/transforms.html#torchvision.transforms.ToTensor\">ToTensor</a>を使って，HxWxCで[0,255]の整数値で表現されるPIL形式で読み込んだ画像をPyTorch Tensor形式 CxHxW の [0.0, 1.0]の実数に変換します．さらに，<a href=\"https://pytorch.org/docs/stable/torchvision/transforms.html#torchvision.transforms.Normalize\">Normalize</a>を使って，Normalize((0.5),(0.5)) とすると，(x-0.5)/0.5 が行われて，[-1.0, 1.0] の値域に変換することもできます．\n",
    "\n",
    "<a href=\"https://pytorch.org/docs/stable/data.html#torch.utils.data.DataLoader\">torch.utils.data.DataLoader</a>は，データ読み込み用のクラスです．指定したbatchsize分のデータをまとめて取り出すことができます．また，num_worksを指定することで，マルチスレッドで高速なデータの受け渡しが可能となります．"
   ]
  },
  {
   "cell_type": "code",
   "execution_count": 2,
   "metadata": {},
   "outputs": [
    {
     "name": "stdout",
     "output_type": "stream",
     "text": [
      "Downloading http://yann.lecun.com/exdb/mnist/train-images-idx3-ubyte.gz to ./dataset/MNIST/raw/train-images-idx3-ubyte.gz\n"
     ]
    },
    {
     "data": {
      "application/vnd.jupyter.widget-view+json": {
       "model_id": "ac9b2dcdbda444f6a959f11080c0f548",
       "version_major": 2,
       "version_minor": 0
      },
      "text/plain": [
       "HBox(children=(FloatProgress(value=1.0, bar_style='info', max=1.0), HTML(value='')))"
      ]
     },
     "metadata": {},
     "output_type": "display_data"
    },
    {
     "name": "stdout",
     "output_type": "stream",
     "text": [
      "Extracting ./dataset/MNIST/raw/train-images-idx3-ubyte.gz to ./dataset/MNIST/raw\n",
      "Downloading http://yann.lecun.com/exdb/mnist/train-labels-idx1-ubyte.gz to ./dataset/MNIST/raw/train-labels-idx1-ubyte.gz\n"
     ]
    },
    {
     "data": {
      "application/vnd.jupyter.widget-view+json": {
       "model_id": "f501e1671cc945468565095ee99b20b3",
       "version_major": 2,
       "version_minor": 0
      },
      "text/plain": [
       "HBox(children=(FloatProgress(value=1.0, bar_style='info', max=1.0), HTML(value='')))"
      ]
     },
     "metadata": {},
     "output_type": "display_data"
    },
    {
     "name": "stdout",
     "output_type": "stream",
     "text": [
      "Extracting ./dataset/MNIST/raw/train-labels-idx1-ubyte.gz to ./dataset/MNIST/raw\n",
      "Downloading http://yann.lecun.com/exdb/mnist/t10k-images-idx3-ubyte.gz to ./dataset/MNIST/raw/t10k-images-idx3-ubyte.gz\n"
     ]
    },
    {
     "data": {
      "application/vnd.jupyter.widget-view+json": {
       "model_id": "b931c8316309422c8b3d3d30bb70b1ac",
       "version_major": 2,
       "version_minor": 0
      },
      "text/plain": [
       "HBox(children=(FloatProgress(value=1.0, bar_style='info', max=1.0), HTML(value='')))"
      ]
     },
     "metadata": {},
     "output_type": "display_data"
    },
    {
     "name": "stdout",
     "output_type": "stream",
     "text": [
      "Extracting ./dataset/MNIST/raw/t10k-images-idx3-ubyte.gz to ./dataset/MNIST/raw\n",
      "Downloading http://yann.lecun.com/exdb/mnist/t10k-labels-idx1-ubyte.gz to ./dataset/MNIST/raw/t10k-labels-idx1-ubyte.gz\n"
     ]
    },
    {
     "data": {
      "application/vnd.jupyter.widget-view+json": {
       "model_id": "3d3fc5e5510b4692a2b5d896a3c3268d",
       "version_major": 2,
       "version_minor": 0
      },
      "text/plain": [
       "HBox(children=(FloatProgress(value=1.0, bar_style='info', max=1.0), HTML(value='')))"
      ]
     },
     "metadata": {},
     "output_type": "display_data"
    },
    {
     "name": "stdout",
     "output_type": "stream",
     "text": [
      "Extracting ./dataset/MNIST/raw/t10k-labels-idx1-ubyte.gz to ./dataset/MNIST/raw\n",
      "Processing...\n"
     ]
    },
    {
     "name": "stderr",
     "output_type": "stream",
     "text": [
      "/pytorch/torch/csrc/utils/tensor_numpy.cpp:141: UserWarning: The given NumPy array is not writeable, and PyTorch does not support non-writeable tensors. This means you can write to the underlying (supposedly non-writeable) NumPy array using the tensor. You may want to copy the array to protect its data or make it writeable before converting it to a tensor. This type of warning will be suppressed for the rest of this program.\n"
     ]
    },
    {
     "name": "stdout",
     "output_type": "stream",
     "text": [
      "Done!\n"
     ]
    }
   ],
   "source": [
    "import torchvision.transforms as transforms\n",
    "import numpy as np\n",
    "\n",
    "batch_size=200\n",
    "\n",
    "# 画像をCHWの並びで，[-1.0,1.0]になるように変換\n",
    "transform = transforms.Compose([transforms.ToTensor(), transforms.Normalize((0.5,), (0.5,))]) \n",
    "\n",
    "trainset = torchvision.datasets.MNIST(root='./dataset', train=True, download=True, transform=transform)\n",
    "testset = torchvision.datasets.MNIST(root='./dataset', train=False, download=True, transform=transform)\n",
    "\n",
    "# DataLoader で batchsize と 学習データに対してはepoch毎のランダムソート(shuffule)を指定．\n",
    "# テストデータはshuffle不要で，MNISTは画像が小さいために，全部のテストデータがメモリに載るので　batchsize=データ数　とする．\n",
    "trainloader = torch.utils.data.DataLoader(trainset, batch_size=batch_size, shuffle=True, num_workers=10)\n",
    "testloader = torch.utils.data.DataLoader(testset, batch_size=batch_size, shuffle=False, num_workers=10)\n",
    "\n",
    "classes = tuple(np.linspace(0, 9, 10, dtype=np.uint8))"
   ]
  },
  {
   "cell_type": "code",
   "execution_count": 3,
   "metadata": {},
   "outputs": [
    {
     "data": {
      "image/png": "[encoded data removed]",
      "text/plain": [
       "<Figure size 720x216 with 30 Axes>"
      ]
     },
     "metadata": {},
     "output_type": "display_data"
    }
   ],
   "source": [
    "# MNISTデータの表示．テスト画像の最初の30枚を表示してみます．\n",
    "sampset = torchvision.datasets.MNIST(root='./dataset', train=False, download=True)\n",
    "fig = plt.figure(figsize=(10, 3))\n",
    "for i in range(30):\n",
    "    ax = fig.add_subplot(3, 10, i + 1, xticks=[], yticks=[])\n",
    "    (img,label)=sampset.__getitem__(i)\n",
    "    ax.imshow(img) "
   ]
  },
  {
   "cell_type": "code",
   "execution_count": 16,
   "metadata": {},
   "outputs": [
    {
     "name": "stdout",
     "output_type": "stream",
     "text": [
      "Sequential(\n",
      "  (0): Flatten()\n",
      "  (1): Linear(in_features=784, out_features=100, bias=True)\n",
      "  (2): ReLU()\n",
      "  (3): Linear(in_features=100, out_features=30, bias=True)\n",
      "  (4): ReLU()\n",
      "  (5): Linear(in_features=30, out_features=10, bias=True)\n",
      ")\n",
      "total num. of params: 81840\n"
     ]
    }
   ],
   "source": [
    "# まずは，全結合2層だけで，分類してみます．\n",
    "\n",
    "# Flatten は feature map (B,C,H,W) を vector (B,CHW) にする\n",
    "# Pytorchには標準ではないので，定義しなくてはいけない．\n",
    "class Flatten(nn.Module):\n",
    "    def forward(self, input):\n",
    "        return input.view(input.size(0), -1)\n",
    "    \n",
    "model = nn.Sequential(\n",
    "    Flatten(),\n",
    "    nn.Linear(28*28, 100),\n",
    "    nn.ReLU(),\n",
    "    nn.Linear(100, 30),\n",
    "    #nn.Dropout2d(p=0.2),\n",
    "    nn.ReLU(),\n",
    "    nn.Linear(30, 10),\n",
    ") \n",
    "\n",
    "print(model)\n",
    "num=0\n",
    "for param in model.parameters():\n",
    "    num += param.numel()\n",
    "print(\"total num. of params:\",num)"
   ]
  },
  {
   "cell_type": "code",
   "execution_count": 17,
   "metadata": {},
   "outputs": [],
   "source": [
    "device = 'cuda' if torch.cuda.is_available() else 'cpu'\n",
    "model = model.to(device)\n",
    "\n",
    "# 複数GPU使用宣言  データが十分大きくないとあまり効果はない．MNISTでは使う意味はほとんどない．\n",
    "# if torch.cuda.is_available() and torch.cuda.device_count()>1:\n",
    "#     model = torch.nn.DataParallel(model) "
   ]
  },
  {
   "cell_type": "code",
   "execution_count": 18,
   "metadata": {},
   "outputs": [],
   "source": [
    "## model のグラフィカル表示．一度，forwardしないといけない．\n",
    "#from torchviz import make_dot\n",
    "#dummy = torch.zeros(1, 1, dtype=torch.float, requires_grad=False)\n",
    "#dummy = torch.zeros(1, 28*28, dtype=torch.float)\n",
    "#dummy = torch.zeros(1, 1, 28, 28, dtype=torch.float)\n",
    "#out = model(dummy)\n",
    "#make_dot(out)"
   ]
  },
  {
   "cell_type": "markdown",
   "metadata": {},
   "source": [
    "学習中の経過のグラフ表示用にcallback用のShowGraphクラスを用意します．（ここは中身の理解不要．）"
   ]
  },
  {
   "cell_type": "code",
   "execution_count": 19,
   "metadata": {},
   "outputs": [],
   "source": [
    "# callback のクラス ShowGraphを定義\n",
    "class ShowGraph:\n",
    "    def __init__(self,max_epoch):\n",
    "        # 表示エリアの設定\n",
    "        self.fig=plt.figure(figsize=(8,4))\n",
    "        self.fig1 = self.fig.add_subplot(121)\n",
    "        self.fig1.axis([0, max_epoch, 0.9, 1.0])\n",
    "        self.fig1.set_title('accuracy')\n",
    "        self.fig1.set_ylabel('accuracy')\n",
    "        self.fig1.set_xlabel('epoch')\n",
    "        self.fig2 = self.fig.add_subplot(122)\n",
    "        self.fig2.axis([0, max_epoch, 0, 0.3 ])\n",
    "        self.fig2.set_title('loss')\n",
    "        self.fig2.set_ylabel('loss')\n",
    "        self.fig2.set_xlabel('epoch')\n",
    "        self.max_epoch=max_epoch\n",
    "        self.start=time.time()\n",
    "    \n",
    "    # 学習の最初に呼び出される\n",
    "    def on_train_begin(self, logs={}):\n",
    "        self.losses=[]\n",
    "        self.losses_val=[]\n",
    "        self.acc=[]\n",
    "        self.acc_val=[]\n",
    "        self.n_epoch=[]\n",
    "        self.n_epoch_v=[]\n",
    "    \n",
    "    # 各epochの最後に呼び出される\n",
    "    def on_epoch_end(self, epoch, loss, acc, vloss, vacc):\n",
    "        self.n_epoch.append(epoch)\n",
    "        self.n_epoch_v.append(epoch)\n",
    "        self.acc.append(acc)\n",
    "        self.acc_val.append(vacc)     \n",
    "        self.losses.append(loss)\n",
    "        self.losses_val.append(vloss)    \n",
    "        self.test_acc=vacc\n",
    "    \n",
    "        display.clear_output(wait = True)\n",
    "        self.fig1.plot(self.n_epoch,self.acc,\"b\")\n",
    "        self.fig1.plot(self.n_epoch_v,self.acc_val,\"r\")\n",
    "        self.fig1.legend(['train', 'test'], loc='upper left')\n",
    "        self.fig2.plot(self.n_epoch,self.losses,\"b\")\n",
    "        self.fig2.plot(self.n_epoch_v,self.losses_val,\"r\")\n",
    "        self.fig2.legend(['train', 'test'], loc='upper right')\n",
    "        display.display(self.fig)\n",
    "        \n",
    "    def on_epoch_train(self, epoch, loss, acc): # validationを評価しないepochの表示用\n",
    "        self.n_epoch.append(epoch)\n",
    "        self.acc.append(acc)\n",
    "        self.losses.append(loss)\n",
    "    \n",
    "        display.clear_output(wait = True)\n",
    "        self.fig1.plot(self.n_epoch,self.acc,\"b\")\n",
    "#        self.fig1.legend(['train', 'test'], loc='upper left')\n",
    "        self.fig2.plot(self.n_epoch,self.losses,\"b\")\n",
    "#        self.fig2.legend(['train', 'test'], loc='upper right')\n",
    "        display.display(self.fig)\n",
    "              \n",
    "    # デストラクタ(オブジェクトが消滅時に実行される)  \n",
    "    # グラフが２つ表示されるのを防止．さらに最終val acc値の表示．\n",
    "    def __del__(self):\n",
    "        display.clear_output(wait = True)\n",
    "        print(\"val_acc: \",self.test_acc) \n",
    "        print('Time: ',time.time()-self.start)"
   ]
  },
  {
   "cell_type": "markdown",
   "metadata": {},
   "source": [
    "エポック数は25とする．\n",
    "\n",
    "さらに，指定したエポックだけlossが改善しなかったら，学習率を下げる<a href=\"https://pytorch.org/docs/stable/optim.html#torch.optim.lr_scheduler.ReduceLROnPlateau\">ReduceLROnPlateau</a> をここでは導入してみます．\n",
    "```python\n",
    "scheduler = optim.lr_scheduler.ReduceLROnPlateau(optimizer, 'min', factor=0.1,　patience=5, min_lr=0.0001)\n",
    "```\n",
    "としてみます．5epoch改善しなかったら，学習率を1/10にして，0.0001を学習率の下限とします．\n",
    "(なお，Adamのような自動学習率調整機能がある最適化手法とは，通常は同時には使わないので注意してください．)"
   ]
  },
  {
   "cell_type": "code",
   "execution_count": 20,
   "metadata": {
    "scrolled": false
   },
   "outputs": [
    {
     "name": "stdout",
     "output_type": "stream",
     "text": [
      "val_acc:  0.9798\n",
      "Time:  55.939181327819824\n"
     ]
    },
    {
     "data": {
      "image/png": "[encoded data removed]",
      "text/plain": [
       "<Figure size 576x288 with 2 Axes>"
      ]
     },
     "metadata": {
      "needs_background": "light"
     },
     "output_type": "display_data"
    }
   ],
   "source": [
    "num_epoch=25\n",
    "loss_fn = nn.CrossEntropyLoss()\n",
    "optimizer = optim.SGD(model.parameters(), lr=0.01, momentum=0.9)\n",
    "scheduler = optim.lr_scheduler.ReduceLROnPlateau(optimizer, 'min', patience=5, factor=0.1, min_lr=0.0001)\n",
    "#optimizer = optim.Adam(model.parameters())\n",
    "show_graph=ShowGraph(num_epoch)\n",
    "show_graph.on_train_begin();\n",
    "\n",
    "def train():\n",
    "    loss=0\n",
    "    total=0\n",
    "    total0=0\n",
    "    correct=0\n",
    "    for i, (inputs, labels) in enumerate(trainloader, 0):\n",
    "        outputs = model(inputs.to(device))\n",
    "        labels=labels.to(device)\n",
    "        loss0= loss_fn(outputs, labels)\n",
    "        loss+= loss0.item()\n",
    "        _, predicted = torch.max(outputs.data, 1)\n",
    "        total += labels.size(0)\n",
    "        total0+=1\n",
    "        correct += (predicted == labels).sum().item()\n",
    "        optimizer.zero_grad()\n",
    "        loss0.backward()\n",
    "        optimizer.step()\n",
    "    loss=loss/total0\n",
    "    acc=correct/total \n",
    "    return loss, acc\n",
    "\n",
    "def validate():\n",
    "    with torch.no_grad():\n",
    "         vloss=0\n",
    "         total2=0\n",
    "         total20=0\n",
    "         correct2=0\n",
    "         for (inputs, labels) in testloader:\n",
    "             outputs = model(inputs.to(device))\n",
    "             labels=labels.to(device)\n",
    "             vloss += loss_fn(outputs, labels).item()\n",
    "             _, predicted = torch.max(outputs.data, 1)\n",
    "             total2 += labels.size(0)\n",
    "             total20+=1\n",
    "             correct2 += (predicted == labels).sum().item()\n",
    "         vloss=vloss/total20\n",
    "         vacc=correct2/total2\n",
    "    return vloss, vacc   \n",
    "\n",
    "for epoch in range(num_epoch):\n",
    "    l, a = train()   \n",
    "    lv, av = validate()\n",
    "    scheduler.step(lv) # val_lossが下がらなければlrを下げる\n",
    "    show_graph.on_epoch_end(epoch,l,a,lv,av)\n",
    "            \n",
    "del show_graph"
   ]
  },
  {
   "cell_type": "markdown",
   "metadata": {},
   "source": [
    "では，次に畳み込み層を使ったネットワークを学習してみましょう．\n",
    "del modelで一度モデルを消去してから，ネットワークを定義して，同じコードで再学習します．\n",
    "\n",
    "Conv 3x3x20 + MaxPool + Conv 3x3x20 + FC としてみます．"
   ]
  },
  {
   "cell_type": "code",
   "execution_count": 9,
   "metadata": {},
   "outputs": [
    {
     "name": "stdout",
     "output_type": "stream",
     "text": [
      "Sequential(\n",
      "  (0): Conv2d(1, 20, kernel_size=(3, 3), stride=(1, 1), padding=(1, 1))\n",
      "  (1): ReLU()\n",
      "  (2): MaxPool2d(kernel_size=2, stride=2, padding=0, dilation=1, ceil_mode=False)\n",
      "  (3): Conv2d(20, 20, kernel_size=(3, 3), stride=(1, 1), padding=(1, 1))\n",
      "  (4): ReLU()\n",
      "  (5): Flatten()\n",
      "  (6): Linear(in_features=3920, out_features=10, bias=True)\n",
      ")\n",
      "total num. of params: 43030\n"
     ]
    }
   ],
   "source": [
    "del model\n",
    "\n",
    "# 問題文では model2 と呼んでいる． \n",
    "model = nn.Sequential(\n",
    "    nn.Conv2d(1,20,3, padding=1),\n",
    "    nn.ReLU(),\n",
    "    # nn.Dropout2d(p=5),\n",
    "    # nn.BatchNorm2d(20),\n",
    "    nn.MaxPool2d(2,2),\n",
    "    nn.Conv2d(20,20,3, padding=1),\n",
    "    nn.ReLU(),\n",
    "    # nn.Dropout2d(p=5),\n",
    "    # nn.BatchNorm2d(20),\n",
    "    Flatten(),\n",
    "    nn.Linear(3920, 10),\n",
    ")\n",
    "\n",
    "print(model)\n",
    "num=0\n",
    "for param in model.parameters():\n",
    "    num += param.numel()\n",
    "print(\"total num. of params:\",num)\n",
    "model = model.to(device)"
   ]
  },
  {
   "cell_type": "code",
   "execution_count": 10,
   "metadata": {},
   "outputs": [
    {
     "name": "stdout",
     "output_type": "stream",
     "text": [
      "val_acc:  0.9888\n",
      "Time:  57.11830544471741\n"
     ]
    },
    {
     "data": {
      "image/png": "[encoded data removed]",
      "text/plain": [
       "<Figure size 576x288 with 2 Axes>"
      ]
     },
     "metadata": {
      "needs_background": "light"
     },
     "output_type": "display_data"
    }
   ],
   "source": [
    "loss_fn = nn.CrossEntropyLoss()\n",
    "optimizer = optim.SGD(model.parameters(), lr=0.01, momentum=0.9)\n",
    "# optimizer = optim.Adam(model.parameters())\n",
    "scheduler = optim.lr_scheduler.ReduceLROnPlateau(optimizer, 'min', patience=5, factor=0.1, min_lr=0.0001)\n",
    "show_graph=ShowGraph(num_epoch)\n",
    "show_graph.on_train_begin();\n",
    "\n",
    "for epoch in range(num_epoch):\n",
    "    l, a = train()   \n",
    "    lv, av = validate()\n",
    "    scheduler.step(lv) # val_lossが下がらなければlrを下げる\n",
    "    show_graph.on_epoch_end(epoch,l,a,lv,av)\n",
    "            \n",
    "del show_graph"
   ]
  },
  {
   "cell_type": "markdown",
   "metadata": {},
   "source": [
    "### 課題3\n",
    "以下の小問の(1)-(3)を解答すること．(4)(5) は任意回答．\n",
    "\n",
    "1. 全結合のみ(100, 30, 10)のmodel, 畳み込み(20, 20)＋全結合(10)のmodel2 のそれぞれのパラメータ数を計算し，全結合と畳み込みの違いをパラメータ数と認識性能の観点から考察せよ．\n",
    "1. 学習のaccuracy/lossのグラフで青線(training), 赤線(validation)が乖離すると，過学習になっているとみなすことができる．それを解決するために，全結合のみのmodel, 畳み込み＋全結合のmodel2 のそれぞれにDropoutを追加するとどうなるか実験せよ．なお，modelには，2番目の全結合の後に0.2の割合で，model2には2つの畳み込みの直後に割合0.5でそれぞれ挿入せよ．(コメントアウトしてある行の # をとればよい．) (全結合はパラメータが多いので，0.5の割合で挿入する場合は epoch数を増やさないと十分に学習ができない．興味があれば試してみよ．)\n",
    "1. model2に BatchNormalizationを追加せよ．その際，Dropoutを使ったほうがいいか，使わないほうがいいか比較せよ．\n",
    "1. OptimizerをAdamに変更して，MomentumSDGとの結果の違いを観察せよ．\n",
    "1. DataLoaderのnum_worksの値を0,5,10,20に変更して，学習時間を比較せよ．"
   ]
  },
  {
   "cell_type": "markdown",
   "metadata": {
    "collapsed": true
   },
   "source": [
    "# 1."
   ]
  },
  {
   "cell_type": "markdown",
   "metadata": {},
   "source": [
    "# 1.\n",
    "total num. of model's params: 81840\n",
    "total num. of model2's params: 43030\n",
    "\n",
    "全結合の認識率が97.7、学習時間が55.4。\n",
    "畳み込みの認識率が98.8、学習時間が57.1。\n",
    "\n",
    "一方、畳み込みのパラメーター数が全結合の半分ぐらいである。\n",
    "この事実から見ると、畳み込みは画像認識において全結合より上回ると考える。\n",
    "# 2.\n",
    "Dropoutを追加すると、学習とテストの結果（ロス、精度）が近づいたと観察した。\n",
    "\n",
    "\n",
    "# 3.\n",
    "実験結果を見ると、Dropoutを適用した方がいいと考えた。\n",
    "Dropoutを適用しないと、モデルはすぐに学習データを過学習してしまい、学習データセットにおけるロスもほぼ0に近づき、学習が限られたと考える。\n",
    "ただし、今回の実験結果では、Dropout利用しない方が高い精度得られたと観察したが、より大きなデータセットで学習すると、この結果が逆転すると考えた。"
   ]
  },
  {
   "cell_type": "markdown",
   "metadata": {},
   "source": [
    "# 2."
   ]
  },
  {
   "cell_type": "code",
   "execution_count": 27,
   "metadata": {},
   "outputs": [
    {
     "name": "stdout",
     "output_type": "stream",
     "text": [
      "val_acc:  0.9707\n",
      "Time:  56.18900656700134\n"
     ]
    },
    {
     "data": {
      "image/png": "[encoded data removed]",
      "text/plain": [
       "<Figure size 576x288 with 2 Axes>"
      ]
     },
     "metadata": {
      "needs_background": "light"
     },
     "output_type": "display_data"
    }
   ],
   "source": [
    "# まずは，全結合2層だけで，分類してみます．\n",
    "\n",
    "# Flatten は feature map (B,C,H,W) を vector (B,CHW) にする\n",
    "# Pytorchには標準ではないので，定義しなくてはいけない．\n",
    "class Flatten(nn.Module):\n",
    "    def forward(self, input):\n",
    "        return input.view(input.size(0), -1)\n",
    "    \n",
    "model = nn.Sequential(\n",
    "    Flatten(),\n",
    "    nn.Linear(28*28, 100),\n",
    "    nn.ReLU(),\n",
    "    nn.Linear(100, 30),\n",
    "    nn.Dropout2d(p=0.2),\n",
    "    nn.ReLU(),\n",
    "    nn.Linear(30, 10),\n",
    ") \n",
    "\n",
    "print(model)\n",
    "num=0\n",
    "for param in model.parameters():\n",
    "    num += param.numel()\n",
    "print(\"total num. of params:\",num)\n",
    "\n",
    "device = 'cuda' if torch.cuda.is_available() else 'cpu'\n",
    "model = model.to(device)\n",
    "\n",
    "num_epoch=25\n",
    "loss_fn = nn.CrossEntropyLoss()\n",
    "optimizer = optim.SGD(model.parameters(), lr=0.01, momentum=0.9)\n",
    "scheduler = optim.lr_scheduler.ReduceLROnPlateau(optimizer, 'min', patience=5, factor=0.1, min_lr=0.0001)\n",
    "#optimizer = optim.Adam(model.parameters())\n",
    "show_graph=ShowGraph(num_epoch)\n",
    "show_graph.on_train_begin();\n",
    "\n",
    "def train():\n",
    "    loss=0\n",
    "    total=0\n",
    "    total0=0\n",
    "    correct=0\n",
    "    for i, (inputs, labels) in enumerate(trainloader, 0):\n",
    "        outputs = model(inputs.to(device))\n",
    "        labels=labels.to(device)\n",
    "        loss0= loss_fn(outputs, labels)\n",
    "        loss+= loss0.item()\n",
    "        _, predicted = torch.max(outputs.data, 1)\n",
    "        total += labels.size(0)\n",
    "        total0+=1\n",
    "        correct += (predicted == labels).sum().item()\n",
    "        optimizer.zero_grad()\n",
    "        loss0.backward()\n",
    "        optimizer.step()\n",
    "    loss=loss/total0\n",
    "    acc=correct/total \n",
    "    return loss, acc\n",
    "\n",
    "def validate():\n",
    "    with torch.no_grad():\n",
    "         vloss=0\n",
    "         total2=0\n",
    "         total20=0\n",
    "         correct2=0\n",
    "         for (inputs, labels) in testloader:\n",
    "             outputs = model(inputs.to(device))\n",
    "             labels=labels.to(device)\n",
    "             vloss += loss_fn(outputs, labels).item()\n",
    "             _, predicted = torch.max(outputs.data, 1)\n",
    "             total2 += labels.size(0)\n",
    "             total20+=1\n",
    "             correct2 += (predicted == labels).sum().item()\n",
    "         vloss=vloss/total20\n",
    "         vacc=correct2/total2\n",
    "    return vloss, vacc   \n",
    "\n",
    "for epoch in range(num_epoch):\n",
    "    l, a = train()   \n",
    "    lv, av = validate()\n",
    "    scheduler.step(lv) # val_lossが下がらなければlrを下げる\n",
    "    show_graph.on_epoch_end(epoch,l,a,lv,av)\n",
    "            \n",
    "del show_graph"
   ]
  },
  {
   "cell_type": "code",
   "execution_count": 24,
   "metadata": {},
   "outputs": [
    {
     "name": "stdout",
     "output_type": "stream",
     "text": [
      "val_acc:  0.9787\n",
      "Time:  58.20878458023071\n"
     ]
    },
    {
     "data": {
      "image/png": "[encoded data removed]",
      "text/plain": [
       "<Figure size 576x288 with 2 Axes>"
      ]
     },
     "metadata": {
      "needs_background": "light"
     },
     "output_type": "display_data"
    }
   ],
   "source": [
    "#del model\n",
    "\n",
    "# 問題文では model2 と呼んでいる． \n",
    "model = nn.Sequential(\n",
    "    nn.Conv2d(1,20,3, padding=1),\n",
    "    nn.ReLU(),\n",
    "    nn.Dropout2d(p=0.5),\n",
    "    # nn.BatchNorm2d(20),\n",
    "    nn.MaxPool2d(2,2),\n",
    "    nn.Conv2d(20,20,3, padding=1),\n",
    "    nn.ReLU(),\n",
    "    nn.Dropout2d(p=0.5),\n",
    "    # nn.BatchNorm2d(20),\n",
    "    Flatten(),\n",
    "    nn.Linear(3920, 10),\n",
    ")\n",
    "\n",
    "print(model)\n",
    "num=0\n",
    "for param in model.parameters():\n",
    "    num += param.numel()\n",
    "print(\"total num. of params:\",num)\n",
    "model = model.to(device)\n",
    "\n",
    "loss_fn = nn.CrossEntropyLoss()\n",
    "optimizer = optim.SGD(model.parameters(), lr=0.01, momentum=0.9)\n",
    "# optimizer = optim.Adam(model.parameters())\n",
    "scheduler = optim.lr_scheduler.ReduceLROnPlateau(optimizer, 'min', patience=5, factor=0.1, min_lr=0.0001)\n",
    "show_graph=ShowGraph(num_epoch)\n",
    "show_graph.on_train_begin();\n",
    "\n",
    "for epoch in range(num_epoch):\n",
    "    l, a = train()   \n",
    "    lv, av = validate()\n",
    "    scheduler.step(lv) # val_lossが下がらなければlrを下げる\n",
    "    show_graph.on_epoch_end(epoch,l,a,lv,av)\n",
    "            \n",
    "del show_graph"
   ]
  },
  {
   "cell_type": "markdown",
   "metadata": {},
   "source": [
    "# 3/"
   ]
  },
  {
   "cell_type": "code",
   "execution_count": 25,
   "metadata": {},
   "outputs": [
    {
     "name": "stdout",
     "output_type": "stream",
     "text": [
      "val_acc:  0.9764\n",
      "Time:  58.93151021003723\n"
     ]
    },
    {
     "data": {
      "image/png": "[encoded data removed]",
      "text/plain": [
       "<Figure size 576x288 with 2 Axes>"
      ]
     },
     "metadata": {
      "needs_background": "light"
     },
     "output_type": "display_data"
    }
   ],
   "source": [
    "del model\n",
    "\n",
    "# 問題文では model2 と呼んでいる． \n",
    "model = nn.Sequential(\n",
    "    nn.Conv2d(1,20,3, padding=1),\n",
    "    nn.ReLU(),\n",
    "    nn.Dropout2d(p=0.5),\n",
    "    nn.BatchNorm2d(20),\n",
    "    nn.MaxPool2d(2,2),\n",
    "    nn.Conv2d(20,20,3, padding=1),\n",
    "    nn.ReLU(),\n",
    "    nn.Dropout2d(p=0.5),\n",
    "    nn.BatchNorm2d(20),\n",
    "    Flatten(),\n",
    "    nn.Linear(3920, 10),\n",
    ")\n",
    "\n",
    "print(model)\n",
    "num=0\n",
    "for param in model.parameters():\n",
    "    num += param.numel()\n",
    "print(\"total num. of params:\",num)\n",
    "model = model.to(device)\n",
    "\n",
    "loss_fn = nn.CrossEntropyLoss()\n",
    "optimizer = optim.SGD(model.parameters(), lr=0.01, momentum=0.9)\n",
    "# optimizer = optim.Adam(model.parameters())\n",
    "scheduler = optim.lr_scheduler.ReduceLROnPlateau(optimizer, 'min', patience=5, factor=0.1, min_lr=0.0001)\n",
    "show_graph=ShowGraph(num_epoch)\n",
    "show_graph.on_train_begin();\n",
    "\n",
    "for epoch in range(num_epoch):\n",
    "    l, a = train()   \n",
    "    lv, av = validate()\n",
    "    scheduler.step(lv) # val_lossが下がらなければlrを下げる\n",
    "    show_graph.on_epoch_end(epoch,l,a,lv,av)\n",
    "            \n",
    "del show_graph"
   ]
  },
  {
   "cell_type": "code",
   "execution_count": 26,
   "metadata": {},
   "outputs": [
    {
     "name": "stdout",
     "output_type": "stream",
     "text": [
      "val_acc:  0.9892\n",
      "Time:  58.30356979370117\n"
     ]
    },
    {
     "data": {
      "image/png": "[encoded data removed]",
      "text/plain": [
       "<Figure size 576x288 with 2 Axes>"
      ]
     },
     "metadata": {
      "needs_background": "light"
     },
     "output_type": "display_data"
    }
   ],
   "source": [
    "#del model\n",
    "\n",
    "# 問題文では model2 と呼んでいる． \n",
    "model = nn.Sequential(\n",
    "    nn.Conv2d(1,20,3, padding=1),\n",
    "    nn.ReLU(),\n",
    "#     nn.Dropout2d(p=0.5),\n",
    "    nn.BatchNorm2d(20),\n",
    "    nn.MaxPool2d(2,2),\n",
    "    nn.Conv2d(20,20,3, padding=1),\n",
    "    nn.ReLU(),\n",
    "#     nn.Dropout2d(p=0.5),\n",
    "    nn.BatchNorm2d(20),\n",
    "    Flatten(),\n",
    "    nn.Linear(3920, 10),\n",
    ")\n",
    "\n",
    "print(model)\n",
    "num=0\n",
    "for param in model.parameters():\n",
    "    num += param.numel()\n",
    "print(\"total num. of params:\",num)\n",
    "model = model.to(device)\n",
    "\n",
    "loss_fn = nn.CrossEntropyLoss()\n",
    "optimizer = optim.SGD(model.parameters(), lr=0.01, momentum=0.9)\n",
    "# optimizer = optim.Adam(model.parameters())\n",
    "scheduler = optim.lr_scheduler.ReduceLROnPlateau(optimizer, 'min', patience=5, factor=0.1, min_lr=0.0001)\n",
    "show_graph=ShowGraph(num_epoch)\n",
    "show_graph.on_train_begin();\n",
    "\n",
    "for epoch in range(num_epoch):\n",
    "    l, a = train()   \n",
    "    lv, av = validate()\n",
    "    scheduler.step(lv) # val_lossが下がらなければlrを下げる\n",
    "    show_graph.on_epoch_end(epoch,l,a,lv,av)\n",
    "            \n",
    "del show_graph"
   ]
  },
  {
   "cell_type": "code",
   "execution_count": null,
   "metadata": {},
   "outputs": [],
   "source": []
  }
 ],
 "metadata": {
  "kernelspec": {
   "display_name": "Python 3",
   "language": "python",
   "name": "python3"
  },
  "language_info": {
   "codemirror_mode": {
    "name": "ipython",
    "version": 3
   },
   "file_extension": ".py",
   "mimetype": "text/x-python",
   "name": "python",
   "nbconvert_exporter": "python",
   "pygments_lexer": "ipython3",
   "version": "3.7.6"
  }
 },
 "nbformat": 4,
 "nbformat_minor": 2
}
